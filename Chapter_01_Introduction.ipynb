{
  "nbformat": 4,
  "nbformat_minor": 0,
  "metadata": {
    "kernelspec": {
      "display_name": "Python 3",
      "language": "python",
      "name": "python3"
    },
    "language_info": {
      "codemirror_mode": {
        "name": "ipython",
        "version": 3
      },
      "file_extension": ".py",
      "mimetype": "text/x-python",
      "name": "python",
      "nbconvert_exporter": "python",
      "pygments_lexer": "ipython3",
      "version": "3.7.1"
    },
    "colab": {
      "name": "Chapter 01 - Introduction.ipynb",
      "provenance": [],
      "toc_visible": true,
      "include_colab_link": true
    }
  },
  "cells": [
    {
      "cell_type": "markdown",
      "metadata": {
        "id": "view-in-github",
        "colab_type": "text"
      },
      "source": [
        "<a href=\"https://colab.research.google.com/github/MIS536-F20-SMITH/Code/blob/master/Chapter_01_Introduction.ipynb\" target=\"_parent\"><img src=\"https://colab.research.google.com/assets/colab-badge.svg\" alt=\"Open In Colab\"/></a>"
      ]
    },
    {
      "cell_type": "markdown",
      "metadata": {
        "id": "RmAmzi40WXM1",
        "colab_type": "text"
      },
      "source": [
        "# Chapter 1: Introduction\n",
        "\n",
        "> (c) 2019 Galit Shmueli, Peter C. Bruce, Peter Gedeck \n",
        ">\n",
        "> Code included in\n",
        ">\n",
        "> _Data Mining for Business Analytics: Concepts, Techniques, and Applications in Python_ (First Edition) \n",
        "> Galit Shmueli, Peter C. Bruce, Peter Gedeck, and Nitin R. Patel. 2019."
      ]
    },
    {
      "cell_type": "code",
      "metadata": {
        "id": "3UBCDKDbWXM2",
        "colab_type": "code",
        "colab": {}
      },
      "source": [
        "%matplotlib inline\n",
        "\n",
        "from pathlib import Path\n",
        "import pandas as pd\n",
        "import matplotlib.pylab as plt\n"
      ],
      "execution_count": null,
      "outputs": []
    },
    {
      "cell_type": "markdown",
      "metadata": {
        "id": "ebx5B8h5WXM6",
        "colab_type": "text"
      },
      "source": [
        "## Figure 1.1"
      ]
    },
    {
      "cell_type": "code",
      "metadata": {
        "id": "Jb_UsQDlWXM6",
        "colab_type": "code",
        "colab": {
          "base_uri": "https://localhost:8080/",
          "height": 204
        },
        "outputId": "3b5f36ef-6c36-4181-b3ac-96d68d6f13d2"
      },
      "source": [
        "mower_df = pd.read_csv('RidingMowers.csv')\n",
        "mower_df.head()"
      ],
      "execution_count": null,
      "outputs": [
        {
          "output_type": "execute_result",
          "data": {
            "text/html": [
              "<div>\n",
              "<style scoped>\n",
              "    .dataframe tbody tr th:only-of-type {\n",
              "        vertical-align: middle;\n",
              "    }\n",
              "\n",
              "    .dataframe tbody tr th {\n",
              "        vertical-align: top;\n",
              "    }\n",
              "\n",
              "    .dataframe thead th {\n",
              "        text-align: right;\n",
              "    }\n",
              "</style>\n",
              "<table border=\"1\" class=\"dataframe\">\n",
              "  <thead>\n",
              "    <tr style=\"text-align: right;\">\n",
              "      <th></th>\n",
              "      <th>Income</th>\n",
              "      <th>Lot_Size</th>\n",
              "      <th>Ownership</th>\n",
              "    </tr>\n",
              "  </thead>\n",
              "  <tbody>\n",
              "    <tr>\n",
              "      <th>0</th>\n",
              "      <td>60.0</td>\n",
              "      <td>18.4</td>\n",
              "      <td>Owner</td>\n",
              "    </tr>\n",
              "    <tr>\n",
              "      <th>1</th>\n",
              "      <td>85.5</td>\n",
              "      <td>16.8</td>\n",
              "      <td>Owner</td>\n",
              "    </tr>\n",
              "    <tr>\n",
              "      <th>2</th>\n",
              "      <td>64.8</td>\n",
              "      <td>21.6</td>\n",
              "      <td>Owner</td>\n",
              "    </tr>\n",
              "    <tr>\n",
              "      <th>3</th>\n",
              "      <td>61.5</td>\n",
              "      <td>20.8</td>\n",
              "      <td>Owner</td>\n",
              "    </tr>\n",
              "    <tr>\n",
              "      <th>4</th>\n",
              "      <td>87.0</td>\n",
              "      <td>23.6</td>\n",
              "      <td>Owner</td>\n",
              "    </tr>\n",
              "  </tbody>\n",
              "</table>\n",
              "</div>"
            ],
            "text/plain": [
              "   Income  Lot_Size Ownership\n",
              "0    60.0      18.4     Owner\n",
              "1    85.5      16.8     Owner\n",
              "2    64.8      21.6     Owner\n",
              "3    61.5      20.8     Owner\n",
              "4    87.0      23.6     Owner"
            ]
          },
          "metadata": {
            "tags": []
          },
          "execution_count": 2
        }
      ]
    },
    {
      "cell_type": "code",
      "metadata": {
        "id": "QAWFRPT8WXM-",
        "colab_type": "code",
        "colab": {
          "base_uri": "https://localhost:8080/",
          "height": 369
        },
        "outputId": "c64fd539-630e-4da1-8381-6e03bd37e5c9"
      },
      "source": [
        "def basePlot(ax):\n",
        "    mower_df.loc[mower_df.Ownership=='Owner'].plot(x='Income', y='Lot_Size', style='o', \n",
        "                                                   markerfacecolor='C0', markeredgecolor='C0',\n",
        "                                                   ax=ax)\n",
        "    mower_df.loc[mower_df.Ownership=='Nonowner'].plot(x='Income', y='Lot_Size', style='o',\n",
        "                                                      markerfacecolor='none', markeredgecolor='C1',\n",
        "                                                      ax=ax)\n",
        "    ax.legend([\"Owner\", \"Nonowner\"], framealpha=0.5);\n",
        "    ax.set_xlim(20, 120)\n",
        "    ax.set_ylim(13, 25)\n",
        "    ax.set_xlabel('Income ($000s)')\n",
        "    ax.set_ylabel('Lot Size (000s sqft)')\n",
        "    return ax\n",
        "\n",
        "fig, axes = plt.subplots(nrows=1, ncols=2, figsize=(10, 5))\n",
        "\n",
        "ax = basePlot(axes[0])\n",
        "y0, y1, y2 = 21.3, 19.8, 16.4\n",
        "x0, x1, x2 = 55, 58, 95\n",
        "ax.plot((20, x0), (y0,y0), color='grey')\n",
        "ax.plot((20, 120), (y1,y1), color='grey')\n",
        "ax.plot((x1, x2), (y2,y2), color='grey')\n",
        "ax.plot((x0, x0), (25,y1), color='grey')\n",
        "ax.plot((x1, x1), (y1,13), color='grey')\n",
        "ax.plot((x2, x2), (y1,13), color='grey')\n",
        "\n",
        "ax = basePlot(axes[1])\n",
        "ax.plot((40, 95), (25,13), color='grey')\n",
        "\n",
        "plt.tight_layout()\n",
        "plt.show()"
      ],
      "execution_count": null,
      "outputs": [
        {
          "output_type": "display_data",
          "data": {
            "image/png": "[encoded data removed]",
            "text/plain": [
              "<Figure size 720x360 with 2 Axes>"
            ]
          },
          "metadata": {
            "tags": [],
            "needs_background": "light"
          }
        }
      ]
    },
    {
      "cell_type": "code",
      "metadata": {
        "id": "KNLifwazWXNA",
        "colab_type": "code",
        "colab": {}
      },
      "source": [
        ""
      ],
      "execution_count": null,
      "outputs": []
    }
  ]
}